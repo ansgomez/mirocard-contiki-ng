{
 "cells": [
  {
   "cell_type": "code",
   "execution_count": 1,
   "metadata": {},
   "outputs": [],
   "source": [
    "import numpy as np\n",
    "import pickle"
   ]
  },
  {
   "cell_type": "code",
   "execution_count": 2,
   "metadata": {},
   "outputs": [],
   "source": [
    "def preview_pool(pool):\n",
    "    # print power levels and deltas\n",
    "    for key, policy in pool.items():\n",
    "        policy['base_time'] = 160 / policy['power'] / policy['delta']\n",
    "        policy['interval'] = policy['base_time'] * policy['delta']\n",
    "        print(key, 'power: {power:7.2f} uW |   delta [atu]: {delta: 3d} atu |   base time unit: {base_time:5.1f} s |  interval: {interval:5.1f} s'.format(**policy))"
   ]
  },
  {
   "cell_type": "markdown",
   "metadata": {},
   "source": [
    "## Load and preview"
   ]
  },
  {
   "cell_type": "code",
   "execution_count": 3,
   "metadata": {},
   "outputs": [
    {
     "name": "stdout",
     "output_type": "stream",
     "text": [
      "pwr0 power:  160.00 uW |   delta [atu]:   2 atu |   base time unit:   0.5 s |  interval:   1.0 s\n",
      "pwr1 power:   80.00 uW |   delta [atu]:   4 atu |   base time unit:   0.5 s |  interval:   2.0 s\n",
      "pwr2 power:   53.33 uW |   delta [atu]:   6 atu |   base time unit:   0.5 s |  interval:   3.0 s\n",
      "pwr3 power:   40.00 uW |   delta [atu]:   8 atu |   base time unit:   0.5 s |  interval:   4.0 s\n",
      "pwr4 power:   32.00 uW |   delta [atu]:  10 atu |   base time unit:   0.5 s |  interval:   5.0 s\n"
     ]
    }
   ],
   "source": [
    "pool_filename = '../policies/pool_stochastic2.pkl'\n",
    "pool = np.load(pool_filename)\n",
    "preview_pool(pool)"
   ]
  },
  {
   "cell_type": "markdown",
   "metadata": {},
   "source": [
    "## Load and extract single policy"
   ]
  },
  {
   "cell_type": "code",
   "execution_count": 4,
   "metadata": {},
   "outputs": [
    {
     "name": "stdout",
     "output_type": "stream",
     "text": [
      "pwr0 power:  160.00 uW |   delta [atu]:   2 atu |   base time unit:   0.5 s |  interval:   1.0 s\n",
      "pwr1 power:   80.00 uW |   delta [atu]:   4 atu |   base time unit:   0.5 s |  interval:   2.0 s\n",
      "pwr2 power:   32.00 uW |   delta [atu]:  10 atu |   base time unit:   0.5 s |  interval:   5.0 s\n",
      "pwr3 power:   16.00 uW |   delta [atu]:  20 atu |   base time unit:   0.5 s |  interval:  10.0 s\n",
      "pwr4 power:    8.00 uW |   delta [atu]:  40 atu |   base time unit:   0.5 s |  interval:  20.0 s\n"
     ]
    }
   ],
   "source": [
    "full_pool_filename = '../policies/pool_synthetic.pkl'\n",
    "single_pool_filename = '../policies/pool_synthetic_single.pkl'\n",
    "SINGLE_POOL_KEY = 'pwr0'\n",
    "\n",
    "pool_full = np.load(full_pool_filename)\n",
    "preview_pool(pool_full)"
   ]
  },
  {
   "cell_type": "code",
   "execution_count": 5,
   "metadata": {},
   "outputs": [
    {
     "name": "stdout",
     "output_type": "stream",
     "text": [
      "pwr0 power:  160.00 uW |   delta [atu]:   2 atu |   base time unit:   0.5 s |  interval:   1.0 s\n"
     ]
    }
   ],
   "source": [
    "# extract single policy as new pool\n",
    "pool_single = { SINGLE_POOL_KEY: pool_full[SINGLE_POOL_KEY]}\n",
    "preview_pool(pool_single)"
   ]
  },
  {
   "cell_type": "code",
   "execution_count": 6,
   "metadata": {},
   "outputs": [],
   "source": [
    "with open(single_pool_filename, 'wb') as handle:\n",
    "    pickle.dump(pool_single, handle, protocol=pickle.HIGHEST_PROTOCOL)"
   ]
  },
  {
   "cell_type": "markdown",
   "metadata": {},
   "source": [
    "## Sclaing pool power levels in-place"
   ]
  },
  {
   "cell_type": "code",
   "execution_count": 7,
   "metadata": {},
   "outputs": [
    {
     "name": "stdout",
     "output_type": "stream",
     "text": [
      "pwr0 power:  160.00 uW |   delta [atu]:   2 atu |   base time unit:   0.5 s |  interval:   1.0 s\n",
      "pwr1 power:   80.00 uW |   delta [atu]:   4 atu |   base time unit:   0.5 s |  interval:   2.0 s\n",
      "pwr2 power:   53.33 uW |   delta [atu]:   6 atu |   base time unit:   0.5 s |  interval:   3.0 s\n",
      "pwr3 power:   40.00 uW |   delta [atu]:   8 atu |   base time unit:   0.5 s |  interval:   4.0 s\n",
      "pwr4 power:   32.00 uW |   delta [atu]:  10 atu |   base time unit:   0.5 s |  interval:   5.0 s\n"
     ]
    }
   ],
   "source": [
    "input_pool_filename = '../policies/pool_stochastic2.pkl'\n",
    "output_pool_filename = '../policies/pool_stochastic2a.pkl'\n",
    "POWER_SCALING = 20\n",
    "\n",
    "pool_inplace = np.load(input_pool_filename)\n",
    "preview_pool(pool_inplace)"
   ]
  },
  {
   "cell_type": "code",
   "execution_count": 8,
   "metadata": {},
   "outputs": [
    {
     "name": "stdout",
     "output_type": "stream",
     "text": [
      "pwr0 power:    8.00 uW |   delta [atu]:   2 atu |   base time unit:  10.0 s |  interval:  20.0 s\n",
      "pwr1 power:    4.00 uW |   delta [atu]:   4 atu |   base time unit:  10.0 s |  interval:  40.0 s\n",
      "pwr2 power:    2.67 uW |   delta [atu]:   6 atu |   base time unit:  10.0 s |  interval:  60.0 s\n",
      "pwr3 power:    2.00 uW |   delta [atu]:   8 atu |   base time unit:  10.0 s |  interval:  80.0 s\n",
      "pwr4 power:    1.60 uW |   delta [atu]:  10 atu |   base time unit:  10.0 s |  interval: 100.0 s\n"
     ]
    }
   ],
   "source": [
    "# scale power levels in-place\n",
    "for key in pool_inplace.keys():\n",
    "    pool_inplace[key]['power'] = pool_inplace[key]['power'] / POWER_SCALING\n",
    "preview_pool(pool_inplace)"
   ]
  },
  {
   "cell_type": "code",
   "execution_count": 9,
   "metadata": {},
   "outputs": [],
   "source": [
    "with open(output_pool_filename, 'wb') as handle:\n",
    "    pickle.dump(pool_inplace, handle, protocol=pickle.HIGHEST_PROTOCOL)"
   ]
  }
 ],
 "metadata": {
  "kernelspec": {
   "display_name": "Python 3",
   "language": "python",
   "name": "python3"
  },
  "language_info": {
   "codemirror_mode": {
    "name": "ipython",
    "version": 3
   },
   "file_extension": ".py",
   "mimetype": "text/x-python",
   "name": "python",
   "nbconvert_exporter": "python",
   "pygments_lexer": "ipython3",
   "version": "3.6.4"
  }
 },
 "nbformat": 4,
 "nbformat_minor": 2
}
